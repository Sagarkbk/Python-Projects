{
 "cells": [
  {
   "cell_type": "code",
   "execution_count": null,
   "id": "be331c77",
   "metadata": {},
   "outputs": [],
   "source": [
    "Name = input(\"Enter your name : \")\n",
    "\n",
    "Weight = int(input(\"Enter your Weight in Pounds : \"))\n",
    "\n",
    "Height = int(input(\"Enter your height in Inches : \"))\n",
    "\n",
    "BMI = (Weight*703)/(Height*Height)\n",
    "\n",
    "print(BMI)\n",
    "\n",
    "if BMI>0:\n",
    "    if BMI<18.5:\n",
    "        print(Name+\",You are Underweight. Your Health Risk is Minimal\")\n",
    "    elif BMI>=18.5 and BMI<=24.9:\n",
    "        print(Name+\",You are Normal Weight. Your Health Risk is Minimal\")\n",
    "    elif BMI>=25 and BMI<=29.9:\n",
    "        print(Name+\",You are Overweight. Your Health Risk is Increased\")\n",
    "    elif BMI>=30 and BMI<=34.9:\n",
    "        print(Name+\",You are Obese. Your Health Risk is High\")\n",
    "    elif BMI>=35 and BMI<=39.9:\n",
    "        print(Name+\",You are Severely Obese. Your Health Risk is Very High\")\n",
    "    else:\n",
    "        print(Name+\",You are Morbidly Obese. Your Health Risk is Extremely High\")\n",
    "else:\n",
    "    print(\"Enter Valid values\")"
   ]
  }
 ],
 "metadata": {
  "kernelspec": {
   "display_name": "Python 3 (ipykernel)",
   "language": "python",
   "name": "python3"
  },
  "language_info": {
   "codemirror_mode": {
    "name": "ipython",
    "version": 3
   },
   "file_extension": ".py",
   "mimetype": "text/x-python",
   "name": "python",
   "nbconvert_exporter": "python",
   "pygments_lexer": "ipython3",
   "version": "3.10.9"
  }
 },
 "nbformat": 4,
 "nbformat_minor": 5
}
