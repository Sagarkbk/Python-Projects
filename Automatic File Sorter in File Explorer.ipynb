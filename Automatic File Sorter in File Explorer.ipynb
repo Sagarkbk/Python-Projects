{
 "cells": [
  {
   "cell_type": "code",
   "execution_count": 8,
   "id": "49a69ce9",
   "metadata": {},
   "outputs": [],
   "source": [
    "import os, shutil"
   ]
  },
  {
   "cell_type": "code",
   "execution_count": 9,
   "id": "6607c0b5",
   "metadata": {},
   "outputs": [],
   "source": [
    "path = r\"C:/Users/Sagar/OneDrive/Documents/Automatic File Sorter in File Explorer/\""
   ]
  },
  {
   "cell_type": "code",
   "execution_count": 10,
   "id": "fb598898",
   "metadata": {},
   "outputs": [],
   "source": [
    "folders = os.listdir(path)"
   ]
  },
  {
   "cell_type": "code",
   "execution_count": 11,
   "id": "e1eb5969",
   "metadata": {},
   "outputs": [],
   "source": [
    "folder_names = ['excel files','image files','pdf files','doc files']\n",
    "\n",
    "for i in folder_names:\n",
    "    if not os.path.exists(path + i):\n",
    "        os.makedirs(path + i)\n",
    "\n",
    "for fold in folders:\n",
    "    if \".xlsx\" in fold and not os.path.exists(path + \"excel files/\" + fold):\n",
    "        shutil.move(path + fold,path + \"excel files/\" + fold)\n",
    "    elif \".png\" in fold and not os.path.exists(path + \"image files/\" + fold):\n",
    "        shutil.move(path + fold,path + \"image files/\" + fold)\n",
    "    elif \".pdf\" in fold and not os.path.exists(path + \"pdf files/\" + fold):\n",
    "        shutil.move(path + fold,path + \"pdf files/\" + fold)\n",
    "    elif \".docx\" in fold and not os.path.exists(path + \"doc files/\" + fold):\n",
    "        shutil.move(path + fold,path + \"doc files/\" + fold)"
   ]
  }
 ],
 "metadata": {
  "kernelspec": {
   "display_name": "Python 3 (ipykernel)",
   "language": "python",
   "name": "python3"
  },
  "language_info": {
   "codemirror_mode": {
    "name": "ipython",
    "version": 3
   },
   "file_extension": ".py",
   "mimetype": "text/x-python",
   "name": "python",
   "nbconvert_exporter": "python",
   "pygments_lexer": "ipython3",
   "version": "3.10.9"
  }
 },
 "nbformat": 4,
 "nbformat_minor": 5
}
